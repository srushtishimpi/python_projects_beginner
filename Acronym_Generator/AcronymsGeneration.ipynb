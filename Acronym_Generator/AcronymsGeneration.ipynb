{
 "cells": [
  {
   "cell_type": "markdown",
   "metadata": {},
   "source": [
    "# ACRONYMS GENERATION USING PYTHON\n"
   ]
  },
  {
   "cell_type": "markdown",
   "metadata": {},
   "source": [
    "### Author: [Srushti Shimpi](https://github.com/srushtishimpi)"
   ]
  },
  {
   "cell_type": "markdown",
   "metadata": {},
   "source": [
    "## What is an acronym?"
   ]
  },
  {
   "cell_type": "markdown",
   "metadata": {},
   "source": [
    "An acronym is a short form made by using initial components of longer phrases or longer names, usually using individual initial letters such as ISRO (Indian Space Research Organization) or FBI (Federal Bureau of Investigation)."
   ]
  },
  {
   "cell_type": "markdown",
   "metadata": {},
   "source": [
    "To generate acronyms using python, we will write a program to create the short forms of the words from the given sentenses. You can do it by splitting and indexing the given phareses and the combine all the initials."
   ]
  },
  {
   "cell_type": "markdown",
   "metadata": {},
   "source": [
    "Here I will show you how to write a Python program for generating an acronym for a phrase.Steps to generate the password are as follow."
   ]
  },
  {
   "cell_type": "markdown",
   "metadata": {},
   "source": [
    "1. Take the input pharse from user\n",
    "2. Use `split()` for splitting sentense\n",
    "3. Run a loop for splitting every word in sentence and making first letter of each word capital\n",
    "5. Print the acronym of the phrase"
   ]
  },
  {
   "cell_type": "markdown",
   "metadata": {},
   "source": [
    "### 1. Take the input pharse from user"
   ]
  },
  {
   "cell_type": "code",
   "execution_count": 3,
   "metadata": {},
   "outputs": [
    {
     "name": "stdout",
     "output_type": "stream",
     "text": [
      "Enter a Phrase: Personal Identification Number\n"
     ]
    }
   ],
   "source": [
    "userinput = str(input(\"Enter a Phrase: \"))"
   ]
  },
  {
   "cell_type": "markdown",
   "metadata": {},
   "source": [
    "### 2. Use split() for splitting sentense"
   ]
  },
  {
   "cell_type": "code",
   "execution_count": 4,
   "metadata": {},
   "outputs": [],
   "source": [
    "t = userinput.split()"
   ]
  },
  {
   "cell_type": "markdown",
   "metadata": {},
   "source": [
    "### 3. Run a loop for splitting every word in sentence and making first letter of each word capital"
   ]
  },
  {
   "cell_type": "code",
   "execution_count": 5,
   "metadata": {},
   "outputs": [],
   "source": [
    "s = \" \"\n",
    "for i in t:w \n",
    "        s = s+str(i[0]).upper()"
   ]
  },
  {
   "cell_type": "markdown",
   "metadata": {},
   "source": [
    "### 4. Print the acronym of the phrase"
   ]
  },
  {
   "cell_type": "code",
   "execution_count": 6,
   "metadata": {},
   "outputs": [
    {
     "name": "stdout",
     "output_type": "stream",
     "text": [
      "Acronym forPersonal Identification Number is PIN.\n"
     ]
    }
   ],
   "source": [
    "print(\"Acronym for\"+userinput+ \" is\"+s+\".\")"
   ]
  },
  {
   "cell_type": "markdown",
   "metadata": {},
   "source": [
    "In above code, I took phrase as an input from the user. Then I used `split()` to split the sentence. I also declared a varible to store an acronym of the phrase. Afterwords I ran the for loop over varible 't' with `s = s+str(i[0]).upper()` is storing index value of fist letter, capitalizing and storing first letter of each word of the phrase in variable s."
   ]
  },
  {
   "cell_type": "markdown",
   "metadata": {},
   "source": [
    "This code can be changed with many ideas according to your requirements. I hope you liked this post on how to create an acronyms for a phrase."
   ]
  }
 ],
 "metadata": {
  "kernelspec": {
   "display_name": "Python 3",
   "language": "python",
   "name": "python3"
  },
  "language_info": {
   "codemirror_mode": {
    "name": "ipython",
    "version": 3
   },
   "file_extension": ".py",
   "mimetype": "text/x-python",
   "name": "python",
   "nbconvert_exporter": "python",
   "pygments_lexer": "ipython3",
   "version": "3.7.3"
  }
 },
 "nbformat": 4,
 "nbformat_minor": 2
}
