{
 "cells": [
  {
   "cell_type": "markdown",
   "metadata": {},
   "source": [
    "# QR CODE GENERATION USING PYTHON"
   ]
  },
  {
   "cell_type": "markdown",
   "metadata": {},
   "source": [
    "### Author: [Srushti Shimpi](https://github.com/srushtishimpi)"
   ]
  },
  {
   "cell_type": "markdown",
   "metadata": {},
   "source": [
    "QR Code stands for Quick Response Code. It can be read quickly using mobile phones. It is a type of 2 dimensional matrix barcode.Smartphones QR code scanners can be used for converting it to some useful form such as a standard URL for a website, thereby obviating the need for a user to type it into a web browser."
   ]
  },
  {
   "cell_type": "markdown",
   "metadata": {},
   "source": [
    "## What is QR Code?"
   ]
  },
  {
   "cell_type": "markdown",
   "metadata": {},
   "source": [
    "QR Code is two dimensional barcodes which are used to encode and decode the data into a machine readable format. It is made of black square grid on white background and can be read using devices such as smartphone QR Scanners and cameras which processed to give data as an output from the patterns present in horizontal components of the barcode."
   ]
  },
  {
   "cell_type": "markdown",
   "metadata": {},
   "source": [
    "Here I will show you how to write a Python program for generating a QR Code. We are generating the QR Code with python by declaring the path/ url which represents the QR Code. To gerenate the QR Code we first need to install Python libraries as follow:\n",
    "\n",
    "* To install pyqrcode:\n",
    "<br></br>\n",
    "`pip install pyqrcode`\n",
    "<br></br>\n",
    "* To install pypng:\n",
    "<br></br>\n",
    "`pip install pypng`\n",
    "\n",
    "Steps to generate the password are as follow."
   ]
  },
  {
   "cell_type": "markdown",
   "metadata": {},
   "source": [
    "1. Import required functions\n",
    "2. Mention the link which represent the QR code\n",
    "3. Generate QR code \n",
    "4. Create and save the svg file naming \"SrushtiShimpiGithub.svg\" \n",
    "5. Create and save the png file naming \"SrushtiShimpiGithub.png\" "
   ]
  },
  {
   "cell_type": "markdown",
   "metadata": {},
   "source": [
    "### 1. Import required functions"
   ]
  },
  {
   "cell_type": "code",
   "execution_count": 1,
   "metadata": {},
   "outputs": [],
   "source": [
    "import pyqrcode\n",
    "import png\n",
    "from pyqrcode import QRCode "
   ]
  },
  {
   "cell_type": "markdown",
   "metadata": {},
   "source": [
    "### 2. Mention the link which represent the QR code"
   ]
  },
  {
   "cell_type": "code",
   "execution_count": 2,
   "metadata": {},
   "outputs": [],
   "source": [
    "k =\"https://github.com/srushtishimpi\""
   ]
  },
  {
   "cell_type": "markdown",
   "metadata": {},
   "source": [
    "### 3. Generate QR code "
   ]
  },
  {
   "cell_type": "code",
   "execution_count": 3,
   "metadata": {},
   "outputs": [],
   "source": [
    "qr = pyqrcode.create(k) "
   ]
  },
  {
   "cell_type": "markdown",
   "metadata": {},
   "source": [
    "### 4. Create and save the svg file naming \"SrushtiShimpiGithub.svg\" "
   ]
  },
  {
   "cell_type": "code",
   "execution_count": 4,
   "metadata": {},
   "outputs": [],
   "source": [
    "qr.svg(\"SrushtiShimpiGithub.svg\", scale = 8) "
   ]
  },
  {
   "cell_type": "markdown",
   "metadata": {},
   "source": [
    "### 5. Create and save the png file naming \"SrushtiShimpiGithub.png\" "
   ]
  },
  {
   "cell_type": "code",
   "execution_count": 5,
   "metadata": {},
   "outputs": [],
   "source": [
    "qr.png(\"SrushtiShimpiGithub.png\", scale = 8) "
   ]
  },
  {
   "cell_type": "markdown",
   "metadata": {},
   "source": [
    "In the above code, I imported the `pyqrcode` and `pypng` libraries in Python, then I declred and stored the website URL which represents the QR Code. Then I used `pyqrcode` library for generating the QR Code for given URL. I also used `pypng` library to store the generated QR Code in png format which will be automatically stored in the same folder where this program is saved. Generated QR Code is give below."
   ]
  },
  {
   "cell_type": "markdown",
   "metadata": {},
   "source": [
    "![Srushti Shimpi Gitghub Profile](SrushtiShimpiGithub.png)"
   ]
  },
  {
   "cell_type": "markdown",
   "metadata": {},
   "source": [
    "Above code is very basic code for generating QR Codes, but at this stage it meets today's standard for generating secure QR Codes. You can alsways use this program in as a part of your major codes by slightly altering it in the long run. \n",
    "\n",
    "I hope you liked this article on QR Code Generation with Python. Thank you!"
   ]
  }
 ],
 "metadata": {
  "kernelspec": {
   "display_name": "Python 3",
   "language": "python",
   "name": "python3"
  },
  "language_info": {
   "codemirror_mode": {
    "name": "ipython",
    "version": 3
   },
   "file_extension": ".py",
   "mimetype": "text/x-python",
   "name": "python",
   "nbconvert_exporter": "python",
   "pygments_lexer": "ipython3",
   "version": "3.7.3"
  }
 },
 "nbformat": 4,
 "nbformat_minor": 2
}
