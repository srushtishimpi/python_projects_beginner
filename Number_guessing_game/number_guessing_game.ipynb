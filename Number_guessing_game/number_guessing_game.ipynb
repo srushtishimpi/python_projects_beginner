{
 "cells": [
  {
   "cell_type": "markdown",
   "id": "5efb42d1",
   "metadata": {},
   "source": [
    "# NUMBER GUESSING GAME"
   ]
  },
  {
   "cell_type": "markdown",
   "id": "c07f4024",
   "metadata": {},
   "source": [
    "### Author: [Srushti Shimpi](https://github.com/srushtishimpi)"
   ]
  },
  {
   "cell_type": "markdown",
   "id": "40e12d8d",
   "metadata": {},
   "source": [
    "This game selects random number from given range and lets us guess the number using conditional statements, which tells the user if guessed number is greater, smaller than or equal to the number which is randomely selected. "
   ]
  },
  {
   "cell_type": "markdown",
   "id": "ed6ce1c1",
   "metadata": {},
   "source": [
    "We are using the random() function at start to selecting a random number to guess."
   ]
  },
  {
   "cell_type": "markdown",
   "id": "19094c29",
   "metadata": {},
   "source": [
    "Here I will show you how to write a Python program for number guessing game. Steps for the same are as follow."
   ]
  },
  {
   "cell_type": "markdown",
   "id": "e4ba4fec",
   "metadata": {},
   "source": [
    "1. Importing the 'random' library.\n",
    "2. Use `random()` for selecting random number to guess.\n",
    "3. Take the input number to guess from user.\n",
    "4. Run a while loop for indentifying if the guessed number is smaller than, greater than or equal to randomly selected number.\n"
   ]
  },
  {
   "cell_type": "markdown",
   "id": "03a30dd7",
   "metadata": {},
   "source": [
    "### 1. Importing the 'random' library."
   ]
  },
  {
   "cell_type": "code",
   "execution_count": 1,
   "id": "53ff49a8",
   "metadata": {},
   "outputs": [],
   "source": [
    "import random"
   ]
  },
  {
   "cell_type": "markdown",
   "id": "642c87b7",
   "metadata": {},
   "source": [
    "### 2. Use `random()` for selecting random number to guess.\n"
   ]
  },
  {
   "cell_type": "code",
   "execution_count": 2,
   "id": "a310f3bd",
   "metadata": {},
   "outputs": [],
   "source": [
    "a = random.randrange(10,50)"
   ]
  },
  {
   "cell_type": "markdown",
   "id": "f296e531",
   "metadata": {},
   "source": [
    "### 3. Take the input number to guess from user.\n"
   ]
  },
  {
   "cell_type": "code",
   "execution_count": 3,
   "id": "4f10b36e",
   "metadata": {},
   "outputs": [
    {
     "name": "stdout",
     "output_type": "stream",
     "text": [
      "Enter the number: 20\n"
     ]
    }
   ],
   "source": [
    "guess_a = int(input(\"Enter the number: \"))"
   ]
  },
  {
   "cell_type": "markdown",
   "id": "f824da23",
   "metadata": {},
   "source": [
    "### 4. Run a while loop for indentifying if the guessed number is smaller than, greater than or equal to randomly selected number."
   ]
  },
  {
   "cell_type": "code",
   "execution_count": 4,
   "id": "80c53fd7",
   "metadata": {},
   "outputs": [
    {
     "name": "stdout",
     "output_type": "stream",
     "text": [
      "Guessed number is too high.\n",
      "Enter the number: 15\n",
      "Guessed number is too low.\n",
      "Enter the number: 17\n",
      "Hooray!! You guessed the number right!\n"
     ]
    }
   ],
   "source": [
    "\n",
    "while a != guess_a:\n",
    "    if guess_a < a:\n",
    "        print(\"Guessed number is too low.\")\n",
    "        guess_a = int(input(\"Enter the number: \"))\n",
    "    elif guess_a > a:\n",
    "        print(\"Guessed number is too high.\")\n",
    "        guess_a = int(input(\"Enter the number: \"))\n",
    "    else:\n",
    "        break\n",
    "        \n",
    "print(\"Hooray!! You guessed the number right!\")"
   ]
  },
  {
   "cell_type": "markdown",
   "id": "8fe8634a",
   "metadata": {},
   "source": [
    "Number Guessing Game is a popular game among programmers. In this game, the program selects a random number between two numbers, and asks the user  to guess the correct number."
   ]
  },
  {
   "cell_type": "markdown",
   "id": "5e433f47",
   "metadata": {},
   "source": [
    "This code can be changed with many ideas according to your requirements."
   ]
  }
 ],
 "metadata": {
  "kernelspec": {
   "display_name": "Python 3 (ipykernel)",
   "language": "python",
   "name": "python3"
  },
  "language_info": {
   "codemirror_mode": {
    "name": "ipython",
    "version": 3
   },
   "file_extension": ".py",
   "mimetype": "text/x-python",
   "name": "python",
   "nbconvert_exporter": "python",
   "pygments_lexer": "ipython3",
   "version": "3.10.9"
  }
 },
 "nbformat": 4,
 "nbformat_minor": 5
}
